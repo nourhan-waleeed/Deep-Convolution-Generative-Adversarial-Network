{
  "nbformat": 4,
  "nbformat_minor": 0,
  "metadata": {
    "colab": {
      "provenance": [],
      "gpuType": "T4"
    },
    "kernelspec": {
      "name": "python3",
      "display_name": "Python 3"
    },
    "language_info": {
      "name": "python"
    },
    "accelerator": "GPU"
  },
  "cells": [
    {
      "cell_type": "code",
      "execution_count": null,
      "metadata": {
        "id": "0H9jBWQaDOD0"
      },
      "outputs": [],
      "source": [
        "import numpy as np\n",
        "import matplotlib.pyplot as plt\n",
        "import tensorflow as tf\n",
        "from tensorflow.keras.datasets import fashion_mnist\n",
        "from tensorflow.keras.layers import Dense, Reshape\n",
        "from keras.models import Model\n",
        "from keras.models import Model, Sequential\n",
        "from keras.layers import (Activation, BatchNormalization, Concatenate, Dense, Dropout, Flatten, Input, Lambda, Reshape)\n",
        "from tensorflow.keras.layers import Conv2D, MaxPooling2D, Flatten, Dense, Dropout, BatchNormalization\n",
        "from tensorflow.keras.utils import to_categorical\n",
        "from functools import partial\n",
        "from tensorflow.keras.callbacks import EarlyStopping, ModelCheckpoint, ReduceLROnPlateau\n",
        "from sklearn.metrics import classification_report\n",
        "# from tensorflow.keras import models, layers\n",
        "from sklearn.model_selection import train_test_split\n",
        "from tensorflow.keras import regularizers"
      ]
    },
    {
      "cell_type": "code",
      "source": [
        "# Load and Rescale the data\n",
        "(X_train, y_train), (X_test, y_test) = fashion_mnist.load_data()\n",
        "X_train = X_train.astype('float32') / 255.0\n",
        "X_test = X_test.astype('float32') / 255.0\n",
        "X_train, X_val, y_train, y_val = train_test_split(X_train, y_train, test_size=0.3, random_state=42)\n"
      ],
      "metadata": {
        "colab": {
          "base_uri": "https://localhost:8080/"
        },
        "id": "rR7wecOJDeyS",
        "outputId": "7ced9212-feb6-42a7-c2b8-3568a935a9fe"
      },
      "execution_count": null,
      "outputs": [
        {
          "output_type": "stream",
          "name": "stdout",
          "text": [
            "Downloading data from https://storage.googleapis.com/tensorflow/tf-keras-datasets/train-labels-idx1-ubyte.gz\n",
            "29515/29515 [==============================] - 0s 0us/step\n",
            "Downloading data from https://storage.googleapis.com/tensorflow/tf-keras-datasets/train-images-idx3-ubyte.gz\n",
            "26421880/26421880 [==============================] - 0s 0us/step\n",
            "Downloading data from https://storage.googleapis.com/tensorflow/tf-keras-datasets/t10k-labels-idx1-ubyte.gz\n",
            "5148/5148 [==============================] - 0s 0us/step\n",
            "Downloading data from https://storage.googleapis.com/tensorflow/tf-keras-datasets/t10k-images-idx3-ubyte.gz\n",
            "4422102/4422102 [==============================] - 0s 0us/step\n"
          ]
        }
      ]
    },
    {
      "cell_type": "code",
      "source": [
        "# build cnn to classify fashion dataset\n",
        "# Reshape the data to include channel dimension (required for Conv2D)\n",
        "X_train = X_train.reshape(-1, 28, 28, 1)\n",
        "X_test = X_test.reshape(-1, 28, 28, 1)\n",
        "X_val = X_val.reshape(-1, 28, 28, 1)\n",
        "\n",
        "# One-hot encode the labels\n",
        "y_train = to_categorical(y_train, 10)\n",
        "y_test = to_categorical(y_test, 10)\n",
        "y_val = to_categorical(y_val, 10)\n"
      ],
      "metadata": {
        "id": "LUzbfsLqD2HZ"
      },
      "execution_count": null,
      "outputs": []
    },
    {
      "cell_type": "markdown",
      "source": [
        "# Building the CNN Model"
      ],
      "metadata": {
        "id": "SE8xTYIadgFh"
      }
    },
    {
      "cell_type": "code",
      "source": [
        "# # model 2 496\n",
        "# DefaultConv2D = partial(tf.keras.layers.Conv2D, kernel_size = 3, padding = \"same\",activation =\"relu\", kernel_initializer='he_normal')\n",
        "# model_2 = tf.keras.Sequential([\n",
        "#     DefaultConv2D(filters=64, kernel_size=7, input_shape=[28,28,1]),\n",
        "#     tf.keras.layers.MaxPool2D(),\n",
        "#     DefaultConv2D(filters=128),\n",
        "#     DefaultConv2D(filters=128),\n",
        "#     tf.keras.layers.MaxPool2D(),\n",
        "#     DefaultConv2D(filters=256),\n",
        "#     DefaultConv2D(filters=256),\n",
        "#     tf.keras.layers.MaxPool2D(),\n",
        "#     tf.keras.layers.Flatten(),\n",
        "#     tf.keras.layers.Dense(units=128, activation='relu', kernel_initializer='he_normal'),\n",
        "#     tf.keras.layers.Dropout(0.5),\n",
        "#     tf.keras.layers.Dense(units=64, activation='relu', kernel_initializer='he_normal'),\n",
        "#     tf.keras.layers.Dropout(0.5),\n",
        "#     tf.keras.layers.Dense(units=10, activation='softmax')\n",
        "\n",
        "# ])\n",
        "# model_2.summary()"
      ],
      "metadata": {
        "id": "f9h-xKRUFF4J"
      },
      "execution_count": null,
      "outputs": []
    },
    {
      "cell_type": "code",
      "source": [
        "# cnn_model = models.Sequential()\n",
        "\n",
        "# cnn_model.add(layers.Conv2D(32, (3, 3), activation='relu', input_shape=(28, 28, 1)))\n",
        "# cnn_model.add(layers.MaxPool2D(pool_size=(2, 2)))\n",
        "\n",
        "# cnn_model.add(layers.Conv2D(64, (3, 3), activation='relu'))\n",
        "# cnn_model.add(layers.MaxPool2D(pool_size=(2, 2)))\n",
        "\n",
        "# cnn_model.add(layers.Conv2D(64, (3, 3), activation='relu'))\n",
        "\n",
        "# cnn_model.add(layers.Flatten())\n",
        "\n",
        "# # Each fully connected has half its input as its number of neurons.\n",
        "# cnn_model.add(layers.Dense(250, activation='relu'))\n",
        "# cnn_model.add(layers.Dense(125, activation='relu'))\n",
        "# cnn_model.add(layers.Dense(60, activation='relu'))\n",
        "\n",
        "# # 10 neurons in the last layer as we have 10 classes.\n",
        "# cnn_model.add(layers.Dense(10, activation='softmax'))\n",
        "\n",
        "# cnn_model.summary()\n",
        "\n",
        "# # Compile the model\n",
        "# cnn_model.compile(optimizer='adam',\n",
        "#               loss='categorical_crossentropy',\n",
        "#               metrics=['accuracy'])\n",
        "\n",
        "\n",
        "\n",
        "# # Define callbacks\n",
        "# callbacks = [\n",
        "#     EarlyStopping(patience=10, restore_best_weights=True),\n",
        "#     ModelCheckpoint(\"model.h5\", save_best_only=True),\n",
        "#     ReduceLROnPlateau(monitor='val_loss', factor=0.1, patience=5, min_lr=0.00001)\n",
        "# ]\n",
        "# # Compile the model\n",
        "# cnn_model.compile(optimizer='adam',\n",
        "#               loss='categorical_crossentropy',\n",
        "#               metrics=['accuracy'])\n",
        "# # Train the model\n",
        "# history = cnn_model.fit(X_train, y_train, epochs=100, batch_size=32, validation_data=(X_test, y_test), callbacks= callbacks)\n"
      ],
      "metadata": {
        "id": "t9lvcnLgQtWo"
      },
      "execution_count": null,
      "outputs": []
    },
    {
      "cell_type": "markdown",
      "source": [
        "# Adding generated images to the CNN using DCGAN"
      ],
      "metadata": {
        "id": "T_PuYoQSmKZz"
      }
    },
    {
      "cell_type": "code",
      "source": [
        "coding_size = 100\n",
        "\n",
        "generator = tf.keras.Sequential([\n",
        "    tf.keras.layers.Dense(7*7*128),\n",
        "    tf.keras.layers.Reshape([7,7,128]),\n",
        "    tf.keras.layers.BatchNormalization(),\n",
        "    tf.keras.layers.Conv2DTranspose(64, kernel_size=5, strides=2, padding='same', activation='relu'),\n",
        "    tf.keras.layers.BatchNormalization(),\n",
        "    tf.keras.layers.Conv2DTranspose(1, kernel_size=5, strides=2, padding='same', activation='tanh'),\n",
        "\n",
        "])\n",
        "\n",
        "\n",
        "discriminator = tf.keras.Sequential([\n",
        "        tf.keras.layers.Conv2D(64, kernel_size=5, strides=2, padding='same', activation= tf.keras.layers.LeakyReLU(0.2)),\n",
        "        tf.keras.layers.Dropout(0.4),\n",
        "        tf.keras.layers.Conv2D(128, kernel_size=5, strides=2, padding='same', activation= tf.keras.layers.LeakyReLU(0.2)),\n",
        "        tf.keras.layers.Dropout(0.4),\n",
        "        tf.keras.layers.Flatten(),\n",
        "        tf.keras.layers.Dense(1,activation='sigmoid')\n",
        "\n",
        "\n",
        "])\n",
        "\n",
        "gan = tf.keras.Sequential([generator,discriminator])"
      ],
      "metadata": {
        "id": "yn7nyKyymEjP"
      },
      "execution_count": null,
      "outputs": []
    },
    {
      "cell_type": "code",
      "source": [
        "# compile discriminator\n",
        "\n",
        "discriminator.compile(loss = \"binary_crossentropy\", optimizer = \"rmsprop\")\n",
        "#after compiling we put the discriminator we freeze the weights at this step as we want it to wrongly predict fake images and classify it as real\n",
        "discriminator.trainable = False\n",
        "\n",
        "gan.compile(loss='binary_crossentropy', optimizer='rmsprop')\n"
      ],
      "metadata": {
        "id": "ysqFluVVmEmt"
      },
      "execution_count": null,
      "outputs": []
    },
    {
      "cell_type": "code",
      "source": [
        "# incase of DCGAN we need to reshape and rescale to get 1 channel to match the training input with the generaeted img shape so we can concatenate(then we run the previous cell to iterate over the dataset)\n",
        "X_train = X_train.reshape(-1,28,28,1)*2.-1."
      ],
      "metadata": {
        "id": "8TqkF2PrmYp2"
      },
      "execution_count": null,
      "outputs": []
    },
    {
      "cell_type": "code",
      "source": [
        "# we can't call the normal train function (fit method)\n",
        "batch_size = 32\n",
        "# we create a dataset to iterate over the images\n",
        "dataset = tf.data.Dataset.from_tensor_slices(X_train).shuffle(buffer_size=1000)\n",
        "dataset = dataset.batch(batch_size, drop_remainder=True).prefetch(1)"
      ],
      "metadata": {
        "id": "omzMrPeZmYyz"
      },
      "execution_count": null,
      "outputs": []
    },
    {
      "cell_type": "code",
      "source": [
        "def train_gan(gan, dataset, batch_size, coding_size, n_epochs):\n",
        "    generator, discriminator = gan.layers\n",
        "\n",
        "    for epoch in range(n_epochs):\n",
        "          # for each batch in training set in each epoch\n",
        "        for X_batch in dataset:\n",
        "            # Phase 1: Train the discriminator\n",
        "\n",
        "            #FAKE: RANDOM (GAUSSIAN DISTRIBUTION)\n",
        "            noise = tf.random.normal(shape=[batch_size, coding_size])\n",
        "            # 1-feed gaussian noise to generator to  generate fake images\n",
        "            generated_imgs = generator(noise)\n",
        "\n",
        "            # REAL: X_BATCH (FROM THE TRAINING DATASET)\n",
        "\n",
        "\n",
        "            # CONCATENATE equal number of REAL 0 AND FAKE 1\n",
        "            x_fake_and_real = tf.concat([generated_imgs, X_batch], axis=0)\n",
        "            y1 = tf.constant([[0.]] * batch_size + [[1.]] * batch_size)\n",
        "            discriminator.trainable = True\n",
        "            discriminator.train_on_batch(x_fake_and_real, y1)\n",
        "\n",
        "            # Phase 2: Train the generator (we want to imporve the generator in this phase\n",
        "            # so we want the discriminator to fail(wrongly classify fake as real))\n",
        "            # thats why the target y2 is set to 1 although the images are fake (((((NOT TRAINABLE ALL FAKE!!!!)))))\n",
        "            noise = tf.random.normal(shape=[batch_size, coding_size])\n",
        "            y2 = tf.constant([[1.]] * batch_size)\n",
        "            # we freeze the weights\n",
        "            discriminator.trainable = False\n",
        "            # feed the gan model random noise and its generator will try to produce fake images then its discriminator will try to guess whether its fake or real\n",
        "            gan.train_on_batch(noise, y2)\n",
        "\n",
        "# Train the GAN\n",
        "train_gan(gan, dataset, batch_size, coding_size, n_epochs=50)"
      ],
      "metadata": {
        "id": "qd-7NzZLmY2P"
      },
      "execution_count": null,
      "outputs": []
    },
    {
      "cell_type": "code",
      "source": [
        "generator.save(\"fashion_mnist_generator.h5\")"
      ],
      "metadata": {
        "id": "zxUFXsLrmexR",
        "colab": {
          "base_uri": "https://localhost:8080/"
        },
        "outputId": "8c39c8fb-7f1b-4983-ad0d-db22747d1f5d"
      },
      "execution_count": null,
      "outputs": [
        {
          "output_type": "stream",
          "name": "stderr",
          "text": [
            "/usr/local/lib/python3.10/dist-packages/keras/src/engine/training.py:3103: UserWarning: You are saving your model as an HDF5 file via `model.save()`. This file format is considered legacy. We recommend using instead the native Keras format, e.g. `model.save('my_model.keras')`.\n",
            "  saving_api.save_model(\n",
            "WARNING:tensorflow:Compiled the loaded model, but the compiled metrics have yet to be built. `model.compile_metrics` will be empty until you train or evaluate the model.\n"
          ]
        }
      ]
    },
    {
      "cell_type": "code",
      "source": [
        "def plot_generated_images(generator, n_images, coding_size):\n",
        "    noise = tf.random.normal(shape=[n_images, coding_size])\n",
        "    generated_images = generator(noise)\n",
        "    generated_images = generated_images.numpy()\n",
        "\n",
        "    plt.figure(figsize=(10, 10))\n",
        "    for i in range(n_images):\n",
        "        plt.subplot(5, 5, i + 1)\n",
        "        plt.imshow(generated_images[i], cmap='gray')\n",
        "        plt.axis('off')\n",
        "    plt.show()\n",
        "\n",
        "# Plot generated images\n",
        "plot_generated_images(generator, n_images=25, coding_size=coding_size)"
      ],
      "metadata": {
        "id": "lcHc6aITmezG",
        "colab": {
          "base_uri": "https://localhost:8080/",
          "height": 807
        },
        "outputId": "4aef5967-d3b2-4923-baf5-6a3dfd5df417"
      },
      "execution_count": null,
      "outputs": [
        {
          "output_type": "display_data",
          "data": {
            "text/plain": [
              "<Figure size 1000x1000 with 25 Axes>"
            ],
            "image/png": "[encoded data removed]"
          },
          "metadata": {}
        }
      ]
    },
    {
      "cell_type": "code",
      "source": [
        "# Function to generate images using the trained generator\n",
        "def generate_images(generator, n_images, coding_size):\n",
        "    noise = tf.random.normal(shape=[n_images, coding_size])\n",
        "    generated_images = generator(noise)\n",
        "    generated_images = (generated_images.numpy() + 1) / 2.0  # Rescaling\n",
        "    return generated_images"
      ],
      "metadata": {
        "id": "_6wzTIbLme2l"
      },
      "execution_count": null,
      "outputs": []
    },
    {
      "cell_type": "code",
      "source": [
        "n_generated_images = 40000  # Number of images to generate\n",
        "generated_images = generate_images(generator, n_generated_images, coding_size)"
      ],
      "metadata": {
        "id": "b0F1bVX2moD1"
      },
      "execution_count": null,
      "outputs": []
    },
    {
      "cell_type": "code",
      "source": [
        "# Combine the generated images with the original dataset\n",
        "combined_X_train = np.concatenate([X_train, generated_images], axis=0)\n",
        "combined_y_train = np.concatenate([y_train, y_train[:n_generated_images]], axis=0)\n",
        "\n",
        "combined_X_train, combined_X_val, combined_y_train, combined_y_val = train_test_split(combined_X_train, combined_y_train, test_size=0.3, random_state=42)\n"
      ],
      "metadata": {
        "id": "xJ2N0rPUmoF4"
      },
      "execution_count": null,
      "outputs": []
    },
    {
      "cell_type": "code",
      "source": [
        "# Shuffle the combined dataset\n",
        "train_indices = np.arange(combined_X_train.shape[0])\n",
        "valid_indices = np.arange(combined_X_val.shape[0])\n",
        "\n",
        "np.random.shuffle(train_indices)\n",
        "np.random.shuffle(valid_indices)\n",
        "\n",
        "combined_X_train = combined_X_train[train_indices]\n",
        "combined_y_train = combined_y_train[train_indices]\n",
        "combined_X_val = combined_X_val[valid_indices]\n",
        "combined_y_val = combined_y_val[valid_indices]"
      ],
      "metadata": {
        "id": "OUD_LLaGmoJT"
      },
      "execution_count": null,
      "outputs": []
    },
    {
      "cell_type": "markdown",
      "source": [],
      "metadata": {
        "id": "Js4pFGoMm_BZ"
      }
    },
    {
      "cell_type": "markdown",
      "source": [
        "#  CNN without DCGAN"
      ],
      "metadata": {
        "id": "Nm6yeaLKnFSo"
      }
    },
    {
      "cell_type": "code",
      "source": [
        "\n",
        "# # Build the CNN model\n",
        "# model = Sequential([\n",
        "#     Conv2D(32, (3, 3), activation='relu', input_shape=(28, 28, 1)),\n",
        "#     MaxPooling2D((2, 2)),\n",
        "#     Dropout(0.25),\n",
        "\n",
        "#     Conv2D(64, (3, 3), activation='relu'),\n",
        "#     MaxPooling2D((2, 2)),\n",
        "#     Dropout(0.25),\n",
        "\n",
        "#     Flatten(),\n",
        "#     Dense(128, activation='relu'),\n",
        "#     Dropout(0.5),\n",
        "#     Dense(10, activation='softmax')\n",
        "# ])\n",
        "# model.summary()"
      ],
      "metadata": {
        "id": "a_QMambmm_W5"
      },
      "execution_count": null,
      "outputs": []
    },
    {
      "cell_type": "code",
      "source": [
        "\n",
        "# Define a partial function for Conv2D with BatchNormalization\n",
        "DefaultConv2D = partial(tf.keras.layers.Conv2D, kernel_size=3, padding=\"same\", activation=None, kernel_initializer='he_normal', kernel_regularizer=regularizers.l2(0.001))\n",
        "\n",
        "model = tf.keras.Sequential([\n",
        "    DefaultConv2D(filters=64, kernel_size=7, input_shape=[28, 28, 1]),\n",
        "    BatchNormalization(),\n",
        "    tf.keras.layers.Activation('relu'),\n",
        "    tf.keras.layers.MaxPool2D(),\n",
        "\n",
        "    DefaultConv2D(filters=128),\n",
        "    BatchNormalization(),\n",
        "    tf.keras.layers.Activation('relu'),\n",
        "\n",
        "    DefaultConv2D(filters=128),\n",
        "    BatchNormalization(),\n",
        "    tf.keras.layers.Activation('relu'),\n",
        "    tf.keras.layers.MaxPool2D(),\n",
        "\n",
        "    DefaultConv2D(filters=256),\n",
        "    BatchNormalization(),\n",
        "    tf.keras.layers.Activation('relu'),\n",
        "\n",
        "    DefaultConv2D(filters=256),\n",
        "    BatchNormalization(),\n",
        "    tf.keras.layers.Activation('relu'),\n",
        "    tf.keras.layers.MaxPool2D(),\n",
        "\n",
        "    tf.keras.layers.Flatten(),\n",
        "    tf.keras.layers.Dense(units=128, activation=None, kernel_initializer='he_normal'),\n",
        "    BatchNormalization(),\n",
        "    tf.keras.layers.Activation('relu'),\n",
        "    tf.keras.layers.Dropout(0.5),\n",
        "\n",
        "    tf.keras.layers.Dense(units=64, activation=None, kernel_initializer='he_normal'),\n",
        "    BatchNormalization(),\n",
        "    tf.keras.layers.Activation('relu'),\n",
        "    tf.keras.layers.Dropout(0.5),\n",
        "\n",
        "    tf.keras.layers.Dense(units=10, activation='softmax')\n",
        "])\n",
        "\n",
        "model.summary()\n"
      ],
      "metadata": {
        "id": "5-5ryBVK-Hph"
      },
      "execution_count": null,
      "outputs": []
    },
    {
      "cell_type": "code",
      "source": [
        "\n",
        "# Define callbacks\n",
        "callbacks = [\n",
        "    EarlyStopping(patience=10, restore_best_weights=True),\n",
        "    ModelCheckpoint(\"model.h5\", save_best_only=True),\n",
        "    ReduceLROnPlateau(monitor='val_loss', factor=0.1, patience=5, min_lr=0.00001)\n",
        "]\n",
        "# Compile the model\n",
        "model.compile(optimizer='adam',\n",
        "              loss='categorical_crossentropy',\n",
        "              metrics=['accuracy'])\n",
        "# Train the model\n",
        "history = model.fit(X_train, y_train, epochs=100, batch_size=32, validation_data=(X_val, y_val), callbacks= callbacks)\n",
        "\n",
        "# # Compile the model\n",
        "# model.compile(optimizer='adam',\n",
        "#               loss='categorical_crossentropy',\n",
        "#               metrics=['accuracy'])\n",
        "\n",
        "# # Train the model\n",
        "# history = model.fit(X_train, y_train, epochs=15, batch_size=32, validation_data=(X_val, y_val))\n",
        "\n"
      ],
      "metadata": {
        "id": "idtcj-o4m_ZY"
      },
      "execution_count": null,
      "outputs": []
    },
    {
      "cell_type": "code",
      "source": [
        "# Evaluate the model\n",
        "test_loss, test_acc = model.evaluate(X_test, y_test)\n",
        "print(f'Test accuracy: {test_acc}')\n",
        "\n"
      ],
      "metadata": {
        "id": "2YCqOBfVxMUe"
      },
      "execution_count": null,
      "outputs": []
    },
    {
      "cell_type": "code",
      "source": [
        "# Plot training & validation accuracy values\n",
        "plt.plot(history.history['accuracy'])\n",
        "plt.plot(history.history['val_accuracy'])\n",
        "plt.title('Model accuracy')\n",
        "plt.xlabel('Epoch')\n",
        "plt.ylabel('Accuracy')\n",
        "plt.legend(['Train', 'Test'], loc='upper left')\n",
        "plt.show()\n",
        "\n",
        "\n"
      ],
      "metadata": {
        "id": "FqzHQTLexNcN"
      },
      "execution_count": null,
      "outputs": []
    },
    {
      "cell_type": "code",
      "source": [
        "# Plot training & validation loss values\n",
        "plt.plot(history.history['loss'])\n",
        "plt.plot(history.history['val_loss'])\n",
        "plt.title('Model loss')\n",
        "plt.xlabel('Epoch')\n",
        "plt.ylabel('Loss')\n",
        "plt.legend(['Train', 'Test'], loc='upper left')\n",
        "plt.show()"
      ],
      "metadata": {
        "colab": {
          "base_uri": "https://localhost:8080/",
          "height": 472
        },
        "id": "xCE8jvJ219QO",
        "outputId": "64d23015-7321-4a75-bf08-606531093742"
      },
      "execution_count": null,
      "outputs": [
        {
          "output_type": "display_data",
          "data": {
            "text/plain": [
              "<Figure size 640x480 with 1 Axes>"
            ],
            "image/png": "[encoded data removed]"
          },
          "metadata": {}
        }
      ]
    },
    {
      "cell_type": "markdown",
      "source": [
        "## Train the model with DCGAN\n"
      ],
      "metadata": {
        "id": "hAg8ApDPnzuX"
      }
    },
    {
      "cell_type": "code",
      "source": [
        "# model p 496\n",
        "\n",
        "DefaultConv2D = partial(tf.keras.layers.Conv2D, kernel_size=3, padding=\"same\", activation=None, kernel_initializer='he_normal')\n",
        "\n",
        "gan_model = tf.keras.Sequential([\n",
        "    DefaultConv2D(filters=64, kernel_size=7, input_shape=[28, 28, 1]),\n",
        "    BatchNormalization(),\n",
        "    tf.keras.layers.Activation('relu'),\n",
        "    tf.keras.layers.MaxPool2D(),\n",
        "\n",
        "    DefaultConv2D(filters=128),\n",
        "    BatchNormalization(),\n",
        "    tf.keras.layers.Activation('relu'),\n",
        "\n",
        "    DefaultConv2D(filters=128),\n",
        "    BatchNormalization(),\n",
        "    tf.keras.layers.Activation('relu'),\n",
        "    tf.keras.layers.MaxPool2D(),\n",
        "\n",
        "    DefaultConv2D(filters=256),\n",
        "    BatchNormalization(),\n",
        "    tf.keras.layers.Activation('relu'),\n",
        "\n",
        "    DefaultConv2D(filters=256),\n",
        "    BatchNormalization(),\n",
        "    tf.keras.layers.Activation('relu'),\n",
        "    tf.keras.layers.MaxPool2D(),\n",
        "\n",
        "    tf.keras.layers.Flatten(),\n",
        "    tf.keras.layers.Dense(units=128, activation=None, kernel_initializer='he_normal'),\n",
        "    BatchNormalization(),\n",
        "    tf.keras.layers.Activation('relu'),\n",
        "    tf.keras.layers.Dropout(0.5),\n",
        "\n",
        "    tf.keras.layers.Dense(units=64, activation=None, kernel_initializer='he_normal'),\n",
        "    BatchNormalization(),\n",
        "    tf.keras.layers.Activation('relu'),\n",
        "    tf.keras.layers.Dropout(0.5),\n",
        "\n",
        "    tf.keras.layers.Dense(units=10, activation='softmax')\n",
        "])\n",
        "\n",
        "gan_model.summary()\n"
      ],
      "metadata": {
        "id": "o_pWrXBJqSkN",
        "colab": {
          "base_uri": "https://localhost:8080/"
        },
        "outputId": "1116f865-f29d-4d2b-c504-d7114422a375"
      },
      "execution_count": null,
      "outputs": [
        {
          "output_type": "stream",
          "name": "stdout",
          "text": [
            "Model: \"sequential_5\"\n",
            "_________________________________________________________________\n",
            " Layer (type)                Output Shape              Param #   \n",
            "=================================================================\n",
            " conv2d_12 (Conv2D)          (None, 28, 28, 64)        3200      \n",
            "                                                                 \n",
            " batch_normalization_16 (Ba  (None, 28, 28, 64)        256       \n",
            " tchNormalization)                                               \n",
            "                                                                 \n",
            " activation_14 (Activation)  (None, 28, 28, 64)        0         \n",
            "                                                                 \n",
            " max_pooling2d_6 (MaxPoolin  (None, 14, 14, 64)        0         \n",
            " g2D)                                                            \n",
            "                                                                 \n",
            " conv2d_13 (Conv2D)          (None, 14, 14, 128)       73856     \n",
            "                                                                 \n",
            " batch_normalization_17 (Ba  (None, 14, 14, 128)       512       \n",
            " tchNormalization)                                               \n",
            "                                                                 \n",
            " activation_15 (Activation)  (None, 14, 14, 128)       0         \n",
            "                                                                 \n",
            " conv2d_14 (Conv2D)          (None, 14, 14, 128)       147584    \n",
            "                                                                 \n",
            " batch_normalization_18 (Ba  (None, 14, 14, 128)       512       \n",
            " tchNormalization)                                               \n",
            "                                                                 \n",
            " activation_16 (Activation)  (None, 14, 14, 128)       0         \n",
            "                                                                 \n",
            " max_pooling2d_7 (MaxPoolin  (None, 7, 7, 128)         0         \n",
            " g2D)                                                            \n",
            "                                                                 \n",
            " conv2d_15 (Conv2D)          (None, 7, 7, 256)         295168    \n",
            "                                                                 \n",
            " batch_normalization_19 (Ba  (None, 7, 7, 256)         1024      \n",
            " tchNormalization)                                               \n",
            "                                                                 \n",
            " activation_17 (Activation)  (None, 7, 7, 256)         0         \n",
            "                                                                 \n",
            " conv2d_16 (Conv2D)          (None, 7, 7, 256)         590080    \n",
            "                                                                 \n",
            " batch_normalization_20 (Ba  (None, 7, 7, 256)         1024      \n",
            " tchNormalization)                                               \n",
            "                                                                 \n",
            " activation_18 (Activation)  (None, 7, 7, 256)         0         \n",
            "                                                                 \n",
            " max_pooling2d_8 (MaxPoolin  (None, 3, 3, 256)         0         \n",
            " g2D)                                                            \n",
            "                                                                 \n",
            " flatten_3 (Flatten)         (None, 2304)              0         \n",
            "                                                                 \n",
            " dense_8 (Dense)             (None, 128)               295040    \n",
            "                                                                 \n",
            " batch_normalization_21 (Ba  (None, 128)               512       \n",
            " tchNormalization)                                               \n",
            "                                                                 \n",
            " activation_19 (Activation)  (None, 128)               0         \n",
            "                                                                 \n",
            " dropout_6 (Dropout)         (None, 128)               0         \n",
            "                                                                 \n",
            " dense_9 (Dense)             (None, 64)                8256      \n",
            "                                                                 \n",
            " batch_normalization_22 (Ba  (None, 64)                256       \n",
            " tchNormalization)                                               \n",
            "                                                                 \n",
            " activation_20 (Activation)  (None, 64)                0         \n",
            "                                                                 \n",
            " dropout_7 (Dropout)         (None, 64)                0         \n",
            "                                                                 \n",
            " dense_10 (Dense)            (None, 10)                650       \n",
            "                                                                 \n",
            "=================================================================\n",
            "Total params: 1417930 (5.41 MB)\n",
            "Trainable params: 1415882 (5.40 MB)\n",
            "Non-trainable params: 2048 (8.00 KB)\n",
            "_________________________________________________________________\n"
          ]
        }
      ]
    },
    {
      "cell_type": "code",
      "source": [
        "\n",
        "callbacks = [\n",
        "    EarlyStopping(patience=10, restore_best_weights=True),\n",
        "    ModelCheckpoint(\"model.h5\", save_best_only=True),\n",
        "    ReduceLROnPlateau(monitor='val_loss', factor=0.1, patience=5, min_lr=0.00001)\n",
        "]\n",
        "# Compile the model\n",
        "gan_model.compile(optimizer='adam',\n",
        "              loss='categorical_crossentropy',\n",
        "              metrics=['accuracy'])\n",
        "# Train the model\n",
        "gan_history = gan_model.fit(combined_X_train, combined_y_train, epochs=100, batch_size=32,validation_data=(combined_X_val, combined_y_val), callbacks= callbacks)\n",
        "\n",
        "\n",
        "\n",
        "# Compile the model\n",
        "# gan_model.compile(optimizer='adam',\n",
        "#               loss='categorical_crossentropy',\n",
        "#               metrics=['accuracy'])\n",
        "\n",
        "# # Train the model\n",
        "# gan_history = gan_model.fit(combined_X_train, combined_y_train, epochs=15, batch_size=32, validation_data=(combined_X_val, combined_y_val))\n",
        "\n",
        "\n",
        "\n"
      ],
      "metadata": {
        "id": "6hnTbNpXA3rT",
        "colab": {
          "base_uri": "https://localhost:8080/"
        },
        "outputId": "501e5e4e-9b8f-48d4-d310-746a1619bed7"
      },
      "execution_count": null,
      "outputs": [
        {
          "output_type": "stream",
          "name": "stdout",
          "text": [
            "Epoch 1/100\n",
            "1794/1794 [==============================] - 26s 12ms/step - loss: 1.5517 - accuracy: 0.4245 - val_loss: 1.3263 - val_accuracy: 0.4866 - lr: 0.0010\n",
            "Epoch 2/100\n",
            "1794/1794 [==============================] - 20s 11ms/step - loss: 1.3815 - accuracy: 0.4795 - val_loss: 1.2818 - val_accuracy: 0.5014 - lr: 0.0010\n",
            "Epoch 3/100\n",
            "1794/1794 [==============================] - 21s 12ms/step - loss: 1.3371 - accuracy: 0.4933 - val_loss: 1.2592 - val_accuracy: 0.5086 - lr: 0.0010\n",
            "Epoch 4/100\n",
            "1794/1794 [==============================] - 23s 13ms/step - loss: 1.3159 - accuracy: 0.4982 - val_loss: 1.2604 - val_accuracy: 0.5115 - lr: 0.0010\n",
            "Epoch 5/100\n",
            "1794/1794 [==============================] - 21s 12ms/step - loss: 1.2990 - accuracy: 0.5039 - val_loss: 1.2529 - val_accuracy: 0.5141 - lr: 0.0010\n",
            "Epoch 6/100\n",
            "1794/1794 [==============================] - 21s 12ms/step - loss: 1.2834 - accuracy: 0.5088 - val_loss: 1.2445 - val_accuracy: 0.5175 - lr: 0.0010\n",
            "Epoch 7/100\n",
            "1794/1794 [==============================] - 23s 13ms/step - loss: 1.2713 - accuracy: 0.5133 - val_loss: 1.2394 - val_accuracy: 0.5186 - lr: 0.0010\n",
            "Epoch 8/100\n",
            "1794/1794 [==============================] - 20s 11ms/step - loss: 1.2575 - accuracy: 0.5197 - val_loss: 1.2332 - val_accuracy: 0.5213 - lr: 0.0010\n",
            "Epoch 9/100\n",
            "1794/1794 [==============================] - 21s 12ms/step - loss: 1.2462 - accuracy: 0.5214 - val_loss: 1.2419 - val_accuracy: 0.5190 - lr: 0.0010\n",
            "Epoch 10/100\n",
            "1794/1794 [==============================] - 23s 13ms/step - loss: 1.2372 - accuracy: 0.5244 - val_loss: 1.2569 - val_accuracy: 0.5198 - lr: 0.0010\n",
            "Epoch 11/100\n",
            "1794/1794 [==============================] - 20s 11ms/step - loss: 1.2297 - accuracy: 0.5285 - val_loss: 1.2401 - val_accuracy: 0.5208 - lr: 0.0010\n",
            "Epoch 12/100\n",
            "1794/1794 [==============================] - 21s 12ms/step - loss: 1.2177 - accuracy: 0.5295 - val_loss: 1.2380 - val_accuracy: 0.5213 - lr: 0.0010\n",
            "Epoch 13/100\n",
            "1794/1794 [==============================] - 20s 11ms/step - loss: 1.2099 - accuracy: 0.5328 - val_loss: 1.2462 - val_accuracy: 0.5214 - lr: 0.0010\n",
            "Epoch 14/100\n",
            "1794/1794 [==============================] - 20s 11ms/step - loss: 1.1798 - accuracy: 0.5450 - val_loss: 1.2432 - val_accuracy: 0.5270 - lr: 1.0000e-04\n",
            "Epoch 15/100\n",
            "1794/1794 [==============================] - 22s 12ms/step - loss: 1.1684 - accuracy: 0.5480 - val_loss: 1.2529 - val_accuracy: 0.5269 - lr: 1.0000e-04\n",
            "Epoch 16/100\n",
            "1794/1794 [==============================] - 21s 12ms/step - loss: 1.1622 - accuracy: 0.5499 - val_loss: 1.2569 - val_accuracy: 0.5272 - lr: 1.0000e-04\n",
            "Epoch 17/100\n",
            "1794/1794 [==============================] - 21s 12ms/step - loss: 1.1573 - accuracy: 0.5517 - val_loss: 1.2647 - val_accuracy: 0.5268 - lr: 1.0000e-04\n",
            "Epoch 18/100\n",
            "1794/1794 [==============================] - 21s 12ms/step - loss: 1.1539 - accuracy: 0.5540 - val_loss: 1.2694 - val_accuracy: 0.5273 - lr: 1.0000e-04\n"
          ]
        }
      ]
    },
    {
      "cell_type": "markdown",
      "source": [
        "# Evaluation and Comparison"
      ],
      "metadata": {
        "id": "7F6kBBZwdpg8"
      }
    },
    {
      "cell_type": "code",
      "source": [
        "# Evaluate the model\n",
        "test_loss_gan, test_acc_gan = gan_model.evaluate(X_test, y_test)\n",
        "print(f'Test accuracy: {test_acc}')\n",
        "\n"
      ],
      "metadata": {
        "id": "fv1yKYZA96oF"
      },
      "execution_count": null,
      "outputs": []
    },
    {
      "cell_type": "code",
      "source": [
        "# Plot training & validation accuracy values\n",
        "plt.plot(gan_history.history['accuracy'])\n",
        "plt.plot(gan_history.history['val_accuracy'])\n",
        "plt.title('Model accuracy')\n",
        "plt.xlabel('Epoch')\n",
        "plt.ylabel('Accuracy')\n",
        "plt.legend(['Train', 'Test'], loc='upper left')\n",
        "plt.show()\n",
        "\n",
        "\n"
      ],
      "metadata": {
        "id": "YzvLErkcZBWB"
      },
      "execution_count": null,
      "outputs": []
    },
    {
      "cell_type": "code",
      "source": [
        "# Plot training & validation loss values\n",
        "plt.plot(gan_history.history['loss'])\n",
        "plt.plot(gan_history.history['val_loss'])\n",
        "plt.title('Model loss')\n",
        "plt.xlabel('Epoch')\n",
        "plt.ylabel('Loss')\n",
        "plt.legend(['Train', 'Test'], loc='upper left')\n",
        "plt.show()"
      ],
      "metadata": {
        "id": "fLkl2VnaK0Nn"
      },
      "execution_count": null,
      "outputs": []
    }
  ]
}